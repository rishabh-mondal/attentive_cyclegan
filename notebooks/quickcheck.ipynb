{
 "cells": [
  {
   "cell_type": "code",
   "execution_count": 17,
   "metadata": {},
   "outputs": [],
   "source": [
    "import numpy as np\n",
    "from PIL import Image\n"
   ]
  },
  {
   "cell_type": "code",
   "execution_count": 29,
   "metadata": {},
   "outputs": [
    {
     "name": "stdout",
     "output_type": "stream",
     "text": [
      "['/home/rishabh.mondal/Brick-Kilns-project/ijcai_2025_kilns/data/processed_data/delhi_airshed/images/8558197_3353442.tif'\n",
      " '3' '0' '4' '1']\n",
      "/home/rishabh.mondal/Brick-Kilns-project/ijcai_2025_kilns/data/processed_data/delhi_airshed/images/8558197_3353442.tif\n"
     ]
    }
   ],
   "source": [
    "text_path=\"/home/rishabh.mondal/Brick-Kilns-project/ijcai_2025_kilns/domain_adaptation/init_original_copy/label/sunny_train/sunny/sunny_1.txt\"\n",
    "a_path=np.loadtxt(text_path,dtype=str, delimiter=' ', skiprows=0, usecols=(0))\n",
    "print(a_path)\n",
    "print(a_path[0])"
   ]
  },
  {
   "cell_type": "code",
   "execution_count": 30,
   "metadata": {},
   "outputs": [
    {
     "name": "stdout",
     "output_type": "stream",
     "text": [
      "1\n"
     ]
    }
   ],
   "source": [
    "cls_ = np.loadtxt(text_path, dtype=int, delimiter=' ', skiprows=5, usecols=(0))\n",
    "print(cls_)\n"
   ]
  },
  {
   "cell_type": "code",
   "execution_count": 31,
   "metadata": {},
   "outputs": [],
   "source": [
    "# # text_path = \"your_file.txt\"\n",
    "\n",
    "# with open(text_path, \"r\") as file:\n",
    "#     lines = file.readlines()\n",
    "\n",
    "# # Extract cls_ values, skipping non-numeric lines\n",
    "# cls_ = []\n",
    "# for line in lines[2:]:  # Start reading from the 3rd line (zero-based index)\n",
    "#     parts = line.split()\n",
    "#     if parts and parts[0].isdigit():  # Ensure the first element is a number\n",
    "#         cls_.append(int(parts[0]))\n",
    "\n",
    "# print(cls_)\n"
   ]
  },
  {
   "cell_type": "code",
   "execution_count": 32,
   "metadata": {},
   "outputs": [
    {
     "name": "stdout",
     "output_type": "stream",
     "text": [
      "[2896. 1583. 3114. 1722.]\n"
     ]
    }
   ],
   "source": [
    "box_ = np.loadtxt(text_path, dtype=float, delimiter=' ', skiprows=5, usecols=(1,2,3,4))\n",
    "print(box_)\n"
   ]
  },
  {
   "cell_type": "code",
   "execution_count": 33,
   "metadata": {},
   "outputs": [
    {
     "name": "stdout",
     "output_type": "stream",
     "text": [
      "[2896. 1583. 3114. 1722.]\n"
     ]
    }
   ],
   "source": [
    "import numpy as np\n",
    "\n",
    "# text_path = \"your_file.txt\"\n",
    "\n",
    "# Read all lines\n",
    "with open(text_path, \"r\") as file:\n",
    "    lines = file.readlines()\n",
    "\n",
    "# Skip non-numeric lines (First two lines contain non-relevant info)\n",
    "numeric_lines = []\n",
    "for line in lines[2:]:  # Skip first 2 lines (1.png and metadata)\n",
    "    parts = line.strip().split()\n",
    "    \n",
    "    # Ensure the row has exactly 5 values (class_id + 4 box coordinates)\n",
    "    if len(parts) == 5 and parts[0].isdigit():\n",
    "        numeric_lines.append(\" \".join(parts))  # Convert back to string\n",
    "\n",
    "# Convert filtered lines to numpy array\n",
    "if numeric_lines:\n",
    "    from io import StringIO\n",
    "    box_ = np.loadtxt(StringIO(\"\\n\".join(numeric_lines)), dtype=float, delimiter=\" \", usecols=(1,2,3,4))\n",
    "    print(box_)\n",
    "else:\n",
    "    print(\"No valid bounding box data found.\")\n"
   ]
  },
  {
   "cell_type": "code",
   "execution_count": 34,
   "metadata": {},
   "outputs": [
    {
     "name": "stdout",
     "output_type": "stream",
     "text": [
      "[1]\n",
      "[[2896. 1583. 3114. 1722.]]\n",
      "(1,)\n",
      "(1, 4)\n"
     ]
    }
   ],
   "source": [
    "# if box_.size == 4:\n",
    "cls_ = np.expand_dims(cls_, axis=0)\n",
    "box_ = np.expand_dims(box_, axis=0)\n",
    "print(cls_)\n",
    "print(box_)\n",
    "print(cls_.shape)\n",
    "print(box_.shape)\n",
    "\n",
    "    # print(box_)\n",
    "# mask_ = self.make_mask(cls_, box_)"
   ]
  },
  {
   "cell_type": "code",
   "execution_count": 38,
   "metadata": {},
   "outputs": [
    {
     "name": "stdout",
     "output_type": "stream",
     "text": [
      "[[2896. 1584. 3112. 1720.]]\n",
      "[[2896 1584 3112 1720]]\n"
     ]
    }
   ],
   "source": [
    "box_ = np.round(box_ / 4) * 4\n",
    "print(box_)\n",
    "box_ = box_.astype('int')\n",
    "print(box_)"
   ]
  },
  {
   "cell_type": "code",
   "execution_count": 39,
   "metadata": {},
   "outputs": [
    {
     "name": "stdout",
     "output_type": "stream",
     "text": [
      "(1, 4)\n",
      "[3112]\n"
     ]
    }
   ],
   "source": [
    "print(box_.shape)\n",
    "print(box_[:,2])"
   ]
  },
  {
   "cell_type": "code",
   "execution_count": 40,
   "metadata": {},
   "outputs": [
    {
     "data": {
      "text/plain": [
       "array([2896])"
      ]
     },
     "execution_count": 40,
     "metadata": {},
     "output_type": "execute_result"
    }
   ],
   "source": [
    "box_[:,0]"
   ]
  },
  {
   "cell_type": "code",
   "execution_count": 37,
   "metadata": {},
   "outputs": [
    {
     "name": "stdout",
     "output_type": "stream",
     "text": [
      "[216]\n"
     ]
    }
   ],
   "source": [
    "w = box_[:,2] - box_[:,0]\n",
    "print(w)"
   ]
  },
  {
   "cell_type": "code",
   "execution_count": 18,
   "metadata": {},
   "outputs": [],
   "source": [
    "def make_mask(self, cls, box):\n",
    "    mask1 = Image.new('L', (self.size_w, self.size_h), 0)\n",
    "    mask2 = Image.new('L', (self.size_w, self.size_h), 0)\n",
    "    mask3 = Image.new('L', (self.size_w, self.size_h), 0)\n",
    "\n",
    "    box_ = np.round(box / 4) * 4\n",
    "    print(\"box_shape: \", box_.shape)\n",
    "    box_ = box_.astype('int')\n",
    "\n",
    "    w = box_[:,2] - box_[:,0]\n",
    "    print(\"w shape: \", w.shape)\n",
    "\n",
    "    h = box_[:,3] - box_[:,1]\n",
    "    print(\"h shape: \", h.shape)\n",
    "    print(\"clas size: \", cls.size)\n",
    "    for idx in range(cls.size):\n",
    "        if cls[idx] == 1:\n",
    "            sub = Image.new('L', (w[idx], h[idx]), 255)\n",
    "            mask1.paste(sub, (box_[idx, 0], box_[idx, 1]))\n",
    "        elif cls[idx] == 2:\n",
    "            sub = Image.new('L', (w[idx], h[idx]), 255)\n",
    "            mask2.paste(sub, (box_[idx, 0], box_[idx, 1]))\n",
    "        else: # cls[idx] == 3:\n",
    "            sub = Image.new('L', (w[idx], h[idx]), 255)\n",
    "            mask3.paste(sub, (box_[idx, 0], box_[idx, 1]))\n",
    "    mask = []\n",
    "    mask.append(mask1)\n",
    "    mask.append(mask2)\n",
    "    mask.append(mask3)\n",
    "    return mask"
   ]
  },
  {
   "cell_type": "code",
   "execution_count": 19,
   "metadata": {},
   "outputs": [
    {
     "ename": "AttributeError",
     "evalue": "'int' object has no attribute 'size_w'",
     "output_type": "error",
     "traceback": [
      "\u001b[0;31m---------------------------------------------------------------------------\u001b[0m",
      "\u001b[0;31mAttributeError\u001b[0m                            Traceback (most recent call last)",
      "Cell \u001b[0;32mIn[19], line 1\u001b[0m\n\u001b[0;32m----> 1\u001b[0m \u001b[43mmake_mask\u001b[49m\u001b[43m(\u001b[49m\u001b[38;5;241;43m1\u001b[39;49m\u001b[43m,\u001b[49m\u001b[43m \u001b[49m\u001b[43mcls_\u001b[49m\u001b[43m,\u001b[49m\u001b[43m \u001b[49m\u001b[43mbox_\u001b[49m\u001b[43m)\u001b[49m\n",
      "Cell \u001b[0;32mIn[18], line 2\u001b[0m, in \u001b[0;36mmake_mask\u001b[0;34m(self, cls, box)\u001b[0m\n\u001b[1;32m      1\u001b[0m \u001b[38;5;28;01mdef\u001b[39;00m \u001b[38;5;21mmake_mask\u001b[39m(\u001b[38;5;28mself\u001b[39m, \u001b[38;5;28mcls\u001b[39m, box):\n\u001b[0;32m----> 2\u001b[0m     mask1 \u001b[38;5;241m=\u001b[39m Image\u001b[38;5;241m.\u001b[39mnew(\u001b[38;5;124m'\u001b[39m\u001b[38;5;124mL\u001b[39m\u001b[38;5;124m'\u001b[39m, (\u001b[38;5;28;43mself\u001b[39;49m\u001b[38;5;241;43m.\u001b[39;49m\u001b[43msize_w\u001b[49m, \u001b[38;5;28mself\u001b[39m\u001b[38;5;241m.\u001b[39msize_h), \u001b[38;5;241m0\u001b[39m)\n\u001b[1;32m      3\u001b[0m     mask2 \u001b[38;5;241m=\u001b[39m Image\u001b[38;5;241m.\u001b[39mnew(\u001b[38;5;124m'\u001b[39m\u001b[38;5;124mL\u001b[39m\u001b[38;5;124m'\u001b[39m, (\u001b[38;5;28mself\u001b[39m\u001b[38;5;241m.\u001b[39msize_w, \u001b[38;5;28mself\u001b[39m\u001b[38;5;241m.\u001b[39msize_h), \u001b[38;5;241m0\u001b[39m)\n\u001b[1;32m      4\u001b[0m     mask3 \u001b[38;5;241m=\u001b[39m Image\u001b[38;5;241m.\u001b[39mnew(\u001b[38;5;124m'\u001b[39m\u001b[38;5;124mL\u001b[39m\u001b[38;5;124m'\u001b[39m, (\u001b[38;5;28mself\u001b[39m\u001b[38;5;241m.\u001b[39msize_w, \u001b[38;5;28mself\u001b[39m\u001b[38;5;241m.\u001b[39msize_h), \u001b[38;5;241m0\u001b[39m)\n",
      "\u001b[0;31mAttributeError\u001b[0m: 'int' object has no attribute 'size_w'"
     ]
    }
   ],
   "source": [
    "make_mask(1, cls_, box_)"
   ]
  },
  {
   "cell_type": "code",
   "execution_count": null,
   "metadata": {},
   "outputs": [],
   "source": []
  }
 ],
 "metadata": {
  "kernelspec": {
   "display_name": "zeel_py310",
   "language": "python",
   "name": "python3"
  },
  "language_info": {
   "codemirror_mode": {
    "name": "ipython",
    "version": 3
   },
   "file_extension": ".py",
   "mimetype": "text/x-python",
   "name": "python",
   "nbconvert_exporter": "python",
   "pygments_lexer": "ipython3",
   "version": "3.10.15"
  }
 },
 "nbformat": 4,
 "nbformat_minor": 2
}
