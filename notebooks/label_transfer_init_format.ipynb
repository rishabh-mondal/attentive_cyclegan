{
 "cells": [
  {
   "cell_type": "code",
   "execution_count": 4,
   "metadata": {},
   "outputs": [],
   "source": [
    "import numpy as np\n",
    "from garuda.ops import obb_to_aa\n",
    "import os"
   ]
  },
  {
   "cell_type": "code",
   "execution_count": 5,
   "metadata": {},
   "outputs": [],
   "source": [
    "# !pip install garuda\n",
    "\n",
    "\n",
    "obb_labels=\"/home/rishabh.mondal/Brick-Kilns-project/ijcai_2025_kilns/data/processed_data/dhaka_grid_train/labels\"\n",
    "aa_labels=\"/home/rishabh.mondal/Brick-Kilns-project/ijcai_2025_kilns/data/processed_data/dhaka_grid_train/labels_init_format\"\n",
    "os.makedirs(aa_labels, exist_ok=True)"
   ]
  },
  {
   "cell_type": "code",
   "execution_count": null,
   "metadata": {},
   "outputs": [
    {
     "name": "stderr",
     "output_type": "stream",
     "text": [
      "100%|██████████| 135/135 [00:00<00:00, 1434.36it/s]"
     ]
    },
    {
     "name": "stdout",
     "output_type": "stream",
     "text": [
      "✅ OBB to AA Conversion Completed Successfully!\n"
     ]
    },
    {
     "name": "stderr",
     "output_type": "stream",
     "text": [
      "\n"
     ]
    }
   ],
   "source": [
    "import os\n",
    "import numpy as np\n",
    "from tqdm import tqdm\n",
    "from garuda.ops import obb_to_aa  # Import from Garuda\n",
    "\n",
    "# Paths\n",
    "obb_labels = \"/home/rishabh.mondal/Brick-Kilns-project/ijcai_2025_kilns/data/processed_data/dhaka_grid_train/labels\"\n",
    "aa_labels = \"/home/rishabh.mondal/Brick-Kilns-project/ijcai_2025_kilns/data/processed_data/dhaka_grid_train/labels_aa\"\n",
    "os.makedirs(aa_labels, exist_ok=True)\n",
    "\n",
    "# Process all labels\n",
    "for filename in tqdm(os.listdir(obb_labels)):\n",
    "    if filename.endswith(\".txt\"):\n",
    "        obb_label_path = os.path.join(obb_labels, filename)\n",
    "        aa_label_path = os.path.join(aa_labels, filename)\n",
    "\n",
    "        # Read OBB labels\n",
    "        obb_data = np.loadtxt(obb_label_path, ndmin=2)\n",
    "        if obb_data.size == 0:\n",
    "            continue  # Skip empty files\n",
    "\n",
    "        # Convert OBB to AA using Garuda's function\n",
    "        aa_data = obb_to_aa(obb_data)\n",
    "\n",
    "        # deNormalize by 640×640 image size\n",
    "        aa_data[:, 1:] /= 640\n",
    "\n",
    "        # Save to aa_labels directory\n",
    "        np.savetxt(aa_label_path, aa_data, fmt=\"%.6f\")\n",
    "\n",
    "print(\"✅ OBB to AA Conversion Completed Successfully!\")\n"
   ]
  },
  {
   "cell_type": "code",
   "execution_count": 3,
   "metadata": {},
   "outputs": [
    {
     "name": "stderr",
     "output_type": "stream",
     "text": [
      "100%|██████████| 196/196 [00:00<00:00, 743.44it/s]"
     ]
    },
    {
     "name": "stdout",
     "output_type": "stream",
     "text": [
      "✅ Data formatting completed successfully!\n"
     ]
    },
    {
     "name": "stderr",
     "output_type": "stream",
     "text": [
      "\n"
     ]
    }
   ],
   "source": [
    "import os\n",
    "import numpy as np\n",
    "from tqdm import tqdm\n",
    "from garuda.ops import obb_to_aa\n",
    "import cv2\n",
    "\n",
    "# Paths\n",
    "image_dir = \"/home/rishabh.mondal/Brick-Kilns-project/ijcai_2025_kilns/data/processed_data/delhi_airshed/images\"\n",
    "obb_labels = \"/home/rishabh.mondal/Brick-Kilns-project/ijcai_2025_kilns/data/processed_data/delhi_airshed/labels\"\n",
    "formatted_labels = \"/home/rishabh.mondal/Brick-Kilns-project/ijcai_2025_kilns/data/processed_data/delhi_airshed/formatted_labels\"\n",
    "\n",
    "os.makedirs(formatted_labels, exist_ok=True)\n",
    "\n",
    "# Process all label files\n",
    "for index, filename in enumerate(tqdm(os.listdir(obb_labels))):\n",
    "    if filename.endswith(\".txt\"):\n",
    "        obb_label_path = os.path.join(obb_labels, filename)\n",
    "        formatted_label_path = os.path.join(formatted_labels, filename)\n",
    "\n",
    "        # Corresponding image path\n",
    "        image_path = os.path.join(image_dir, filename.replace(\".txt\", \".tif\"))\n",
    "\n",
    "        # Check if image exists\n",
    "        if not os.path.exists(image_path):\n",
    "            print(f\"❌ Warning: Image {image_path} not found! Skipping...\")\n",
    "            continue\n",
    "\n",
    "        # Read image size (assuming grayscale/single channel)\n",
    "        img = cv2.imread(image_path, cv2.IMREAD_UNCHANGED)\n",
    "        if img is None:\n",
    "            print(f\"❌ Error loading image: {image_path}\")\n",
    "            continue\n",
    "\n",
    "        height, width = img.shape[:2]\n",
    "        channels = 1 if len(img.shape) == 2 else img.shape[2]\n",
    "\n",
    "        # Read OBB labels\n",
    "        obb_data = np.loadtxt(obb_label_path, ndmin=2)\n",
    "        if obb_data.size == 0:\n",
    "            bboxes = []\n",
    "        else:\n",
    "            # Convert OBB to AA (Axis-Aligned Bounding Box)\n",
    "            aa_data = obb_to_aa(obb_data)\n",
    "\n",
    "            # Convert YOLO format to Pascal VOC format\n",
    "            bboxes = []\n",
    "            for row in aa_data:\n",
    "                label_id, x_center, y_center, bbox_width, bbox_height = row\n",
    "                \n",
    "                # Convert to absolute coordinates\n",
    "                x_min = (x_center - (bbox_width / 2)) * width\n",
    "                y_min = (y_center - (bbox_height / 2)) * height\n",
    "                x_max = (x_center + (bbox_width / 2)) * width\n",
    "                y_max = (y_center + (bbox_height / 2)) * height\n",
    "\n",
    "                bboxes.append(f\"{int(label_id)} {x_min:.6f} {y_min:.6f} {x_max:.6f} {y_max:.6f}\")\n",
    "\n",
    "        # Write formatted Pascal VOC annotations\n",
    "        with open(formatted_label_path, \"w\") as f:\n",
    "            f.write(f\"# {index}\\n\")\n",
    "            f.write(f\"{image_path}\\n\")\n",
    "            f.write(f\"{channels} {height} {width} 1\\n\")\n",
    "            f.write(f\"0\\n\")\n",
    "            f.write(f\"{len(bboxes)}\\n\")\n",
    "            f.write(\"\\n\".join(bboxes) + \"\\n\")\n",
    "\n",
    "print(\"✅ Data formatting completed successfully!\")\n"
   ]
  },
  {
   "cell_type": "code",
   "execution_count": null,
   "metadata": {},
   "outputs": [],
   "source": []
  }
 ],
 "metadata": {
  "kernelspec": {
   "display_name": "zeel_py310",
   "language": "python",
   "name": "python3"
  },
  "language_info": {
   "codemirror_mode": {
    "name": "ipython",
    "version": 3
   },
   "file_extension": ".py",
   "mimetype": "text/x-python",
   "name": "python",
   "nbconvert_exporter": "python",
   "pygments_lexer": "ipython3",
   "version": "3.10.15"
  }
 },
 "nbformat": 4,
 "nbformat_minor": 2
}
