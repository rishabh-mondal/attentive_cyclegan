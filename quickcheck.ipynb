{
 "cells": [
  {
   "cell_type": "code",
   "execution_count": 1,
   "metadata": {},
   "outputs": [],
   "source": [
    "import numpy as np\n"
   ]
  },
  {
   "cell_type": "code",
   "execution_count": 2,
   "metadata": {},
   "outputs": [
    {
     "name": "stdout",
     "output_type": "stream",
     "text": [
      "['1.png' '3' '0' '4' '1' '1' '1' '1' '1.png' '3' '0' '12' '1' '1' '2' '2'\n",
      " '2' '2' '2' '2' '2' '2' '2' '2' '1.png' '3' '0' '11' '1' '1' '1' '1' '1'\n",
      " '1' '2' '2' '2' '2' '2']\n"
     ]
    }
   ],
   "source": [
    "text_path=\"/home/rishabh.mondal/Brick-Kilns-project/ijcai_2025_kilns/attentive_cyclegan/data/INIT/label/rainy_train/rainy/rainy2.txt\"\n",
    "a_path=np.loadtxt(text_path,dtype=str, delimiter=' ', skiprows=0, usecols=(0))\n",
    "print(a_path)"
   ]
  },
  {
   "cell_type": "code",
   "execution_count": null,
   "metadata": {},
   "outputs": [],
   "source": [
    "# cls_ = np.loadtxt(text_path, dtype=int, delimiter=' ', skiprows=2, usecols=(0))\n",
    "# print(cls_)\n"
   ]
  },
  {
   "cell_type": "code",
   "execution_count": 4,
   "metadata": {},
   "outputs": [
    {
     "name": "stdout",
     "output_type": "stream",
     "text": [
      "[3, 0, 4, 1, 1, 1, 1, 3, 0, 12, 1, 1, 2, 2, 2, 2, 2, 2, 2, 2, 2, 2, 3, 0, 11, 1, 1, 1, 1, 1, 1, 2, 2, 2, 2, 2]\n"
     ]
    }
   ],
   "source": [
    "# text_path = \"your_file.txt\"\n",
    "\n",
    "with open(text_path, \"r\") as file:\n",
    "    lines = file.readlines()\n",
    "\n",
    "# Extract cls_ values, skipping non-numeric lines\n",
    "cls_ = []\n",
    "for line in lines[2:]:  # Start reading from the 3rd line (zero-based index)\n",
    "    parts = line.split()\n",
    "    if parts and parts[0].isdigit():  # Ensure the first element is a number\n",
    "        cls_.append(int(parts[0]))\n",
    "\n",
    "print(cls_)\n"
   ]
  },
  {
   "cell_type": "code",
   "execution_count": 5,
   "metadata": {},
   "outputs": [],
   "source": [
    "# box_ = np.loadtxt(text_path, dtype=float, delimiter=' ', skiprows=2, usecols=(1,2,3,4))\n"
   ]
  },
  {
   "cell_type": "code",
   "execution_count": 6,
   "metadata": {},
   "outputs": [
    {
     "name": "stdout",
     "output_type": "stream",
     "text": [
      "[[2896. 1583. 3114. 1722.]\n",
      " [2312. 1514. 2359. 1555.]\n",
      " [2171. 1503. 2201. 1534.]\n",
      " [2117. 1490. 2146. 1531.]\n",
      " [1314. 1420. 1629. 1592.]\n",
      " [2072. 1447. 2093. 1469.]\n",
      " [2568. 1283. 2609. 1325.]\n",
      " [ 167.  631.  247.  755.]\n",
      " [ 127.  789.  212.  914.]\n",
      " [ 160.  732.  221.  806.]\n",
      " [ 127.  902.  179.  944.]\n",
      " [ 136.  943.  198. 1022.]\n",
      " [  99. 1059.  155. 1204.]\n",
      " [ 126. 1015.  193. 1071.]\n",
      " [1950. 1362. 1967. 1378.]\n",
      " [1951. 1378. 1968. 1395.]\n",
      " [ 721. 1350. 1421. 1750.]\n",
      " [1627. 1363. 1706. 1435.]\n",
      " [1759. 1374. 1784. 1401.]\n",
      " [3095. 1274. 3539. 1593.]\n",
      " [3026. 1428. 3116. 1523.]\n",
      " [2959. 1435. 3006. 1479.]\n",
      " [ 481. 1012.  591. 1165.]\n",
      " [1364. 1191. 1400. 1228.]\n",
      " [1363. 1230. 1398. 1243.]\n",
      " [1362. 1244. 1397. 1279.]\n",
      " [2610.  816. 2741.  950.]]\n"
     ]
    }
   ],
   "source": [
    "import numpy as np\n",
    "\n",
    "# text_path = \"your_file.txt\"\n",
    "\n",
    "# Read all lines\n",
    "with open(text_path, \"r\") as file:\n",
    "    lines = file.readlines()\n",
    "\n",
    "# Skip non-numeric lines (First two lines contain non-relevant info)\n",
    "numeric_lines = []\n",
    "for line in lines[2:]:  # Skip first 2 lines (1.png and metadata)\n",
    "    parts = line.strip().split()\n",
    "    \n",
    "    # Ensure the row has exactly 5 values (class_id + 4 box coordinates)\n",
    "    if len(parts) == 5 and parts[0].isdigit():\n",
    "        numeric_lines.append(\" \".join(parts))  # Convert back to string\n",
    "\n",
    "# Convert filtered lines to numpy array\n",
    "if numeric_lines:\n",
    "    from io import StringIO\n",
    "    box_ = np.loadtxt(StringIO(\"\\n\".join(numeric_lines)), dtype=float, delimiter=\" \", usecols=(1,2,3,4))\n",
    "    print(box_)\n",
    "else:\n",
    "    print(\"No valid bounding box data found.\")\n"
   ]
  },
  {
   "cell_type": "code",
   "execution_count": 7,
   "metadata": {},
   "outputs": [
    {
     "name": "stdout",
     "output_type": "stream",
     "text": [
      "[[ 3  0  4  1  1  1  1  3  0 12  1  1  2  2  2  2  2  2  2  2  2  2  3  0\n",
      "  11  1  1  1  1  1  1  2  2  2  2  2]]\n",
      "[[[2896. 1583. 3114. 1722.]\n",
      "  [2312. 1514. 2359. 1555.]\n",
      "  [2171. 1503. 2201. 1534.]\n",
      "  [2117. 1490. 2146. 1531.]\n",
      "  [1314. 1420. 1629. 1592.]\n",
      "  [2072. 1447. 2093. 1469.]\n",
      "  [2568. 1283. 2609. 1325.]\n",
      "  [ 167.  631.  247.  755.]\n",
      "  [ 127.  789.  212.  914.]\n",
      "  [ 160.  732.  221.  806.]\n",
      "  [ 127.  902.  179.  944.]\n",
      "  [ 136.  943.  198. 1022.]\n",
      "  [  99. 1059.  155. 1204.]\n",
      "  [ 126. 1015.  193. 1071.]\n",
      "  [1950. 1362. 1967. 1378.]\n",
      "  [1951. 1378. 1968. 1395.]\n",
      "  [ 721. 1350. 1421. 1750.]\n",
      "  [1627. 1363. 1706. 1435.]\n",
      "  [1759. 1374. 1784. 1401.]\n",
      "  [3095. 1274. 3539. 1593.]\n",
      "  [3026. 1428. 3116. 1523.]\n",
      "  [2959. 1435. 3006. 1479.]\n",
      "  [ 481. 1012.  591. 1165.]\n",
      "  [1364. 1191. 1400. 1228.]\n",
      "  [1363. 1230. 1398. 1243.]\n",
      "  [1362. 1244. 1397. 1279.]\n",
      "  [2610.  816. 2741.  950.]]]\n",
      "(1, 36)\n",
      "(1, 27, 4)\n"
     ]
    }
   ],
   "source": [
    "# if box_.size == 4:\n",
    "cls_ = np.expand_dims(cls_, axis=0)\n",
    "box_ = np.expand_dims(box_, axis=0)\n",
    "print(cls_)\n",
    "print(box_)\n",
    "print(cls_.shape)\n",
    "print(box_.shape)\n",
    "\n",
    "    # print(box_)\n",
    "# mask_ = self.make_mask(cls_, box_)"
   ]
  },
  {
   "cell_type": "code",
   "execution_count": null,
   "metadata": {},
   "outputs": [],
   "source": []
  }
 ],
 "metadata": {
  "kernelspec": {
   "display_name": "rishabh_sat",
   "language": "python",
   "name": "python3"
  },
  "language_info": {
   "codemirror_mode": {
    "name": "ipython",
    "version": 3
   },
   "file_extension": ".py",
   "mimetype": "text/x-python",
   "name": "python",
   "nbconvert_exporter": "python",
   "pygments_lexer": "ipython3",
   "version": "3.12.4"
  }
 },
 "nbformat": 4,
 "nbformat_minor": 2
}
